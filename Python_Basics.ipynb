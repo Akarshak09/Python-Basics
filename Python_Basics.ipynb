{
  "nbformat": 4,
  "nbformat_minor": 0,
  "metadata": {
    "colab": {
      "provenance": []
    },
    "kernelspec": {
      "name": "python3",
      "display_name": "Python 3"
    },
    "language_info": {
      "name": "python"
    }
  },
  "cells": [
    {
      "cell_type": "markdown",
      "source": [],
      "metadata": {
        "id": "lnvCgRJGRvq-"
      }
    },
    {
      "cell_type": "markdown",
      "source": [
        "1. What is Python, and why is it popular?\n",
        "\n",
        "-> Python is a high-level, interpreted open source programming language. It is\n",
        "   popular because of its simplicity, readablity allowing developers to express concepts in fewer lines of code compared to many other programming languages.  \n",
        "  \n",
        "2. What is an interpreter in Python?\n",
        "\n",
        "-> Interpreter is a program in python which reads and executes Python code line by line, and converts into bytecode that computer can understand and execute.\n",
        "\n",
        "3. What are pre-defined keywords in Python?\n",
        "\n",
        "->Pre-defined keywords are the reserved words in python which cannot be used as\n",
        "  identifiers such as variable names, function names or class names, all the keywords have their specific meaning.\n",
        "\n",
        "4. Can keywords be used as variable names?\n",
        "\n",
        "->No, keywords in Python cannot be used as variable names or identifiers.\n",
        "\n",
        "5. What is mutability in Python?\n",
        "\n",
        "-> Mutablity is the ability of an object to be changed post its creation.\n",
        "\n",
        "6. Why are lists mutable, but tuples are immutable?\n",
        "\n",
        "->Both have their own significance and are used as per the requirement, in the\n",
        "  scenarios where operations like appending, modifying, or deleting elements Lists are ideal, whereas immutability makes tuples well-suited for situations where the data should remain constant throughout the program.\n",
        "\n",
        "7.  What is the difference between “==” and “is” operators in Python?\n",
        "\n",
        "-> \"==\" operator is used compare two obects if they are equal, wheras \"is\"\n",
        "   operator is used to check whether the objects belong to the same memory location\n",
        "\n",
        "8. What are logical operators in Python?\n",
        "\n",
        "->Logical operators are used to perform logical operations on boolean value or\n",
        "  expressions. They allow you to combine multiple conditions and make decisions based on the truth value of those conditions.\n",
        "\n",
        "9. What is type casting in Python?\n",
        "\n",
        "->Typecasting is the process of converting one data type to another.\n",
        "\n",
        "10.  What is the difference between implicit and explicit type casting?\n",
        "\n",
        "-> Implicit type casting happens automatically by Python when a lower  \n",
        "   precision data type is converted to a higher precision data type, wheras explicit casting is done by the user manually.\n",
        "\n",
        "11.  What is the purpose of conditional statements in Python?\n",
        "\n",
        "-> Conditional statements in python are used to check weather a condition is\n",
        "   true or false.\n",
        "\n",
        "12.  How does the elif statement work?\n",
        "\n",
        "-> \"elif\" stands for else if which is used when there are sequence of  \n",
        "   conditions present.\n",
        "\n",
        "13.  What is the difference between for and while loops?\n",
        "\n",
        "-> for loops are used when we have to iterate over a sequence, whereas while\n",
        "   loops are used when there repition of some specific task until the condition is true.\n",
        "\n",
        "14.  Describe a scenario where a while loop is more suitable than a for loop.\n",
        "\n",
        "->\"Suppose there is a program which is asking to enter correct password, and  \n",
        "  the developer is not sure how many attempts will the user take and the loop should also continue until the correct password is entered\" describes a scenario where while loop is more suitable than for loop.\n",
        "\n",
        "\n",
        "\n"
      ],
      "metadata": {
        "id": "p05_IWQqR-Av"
      }
    },
    {
      "cell_type": "code",
      "source": [
        "#1.  Write a Python program to print \"Hello, World!\n",
        "print(\"Hello, World!\")"
      ],
      "metadata": {
        "colab": {
          "base_uri": "https://localhost:8080/"
        },
        "id": "vWY9wQ8BcKNP",
        "outputId": "41e04cfc-c08c-4a33-8c52-aee041d8eca0"
      },
      "execution_count": 1,
      "outputs": [
        {
          "output_type": "stream",
          "name": "stdout",
          "text": [
            "Hello, World!\n"
          ]
        }
      ]
    },
    {
      "cell_type": "code",
      "source": [
        "#2. Write a Python program that displays your name and age\n",
        "name = \"Akarshak\"\n",
        "age = 25\n",
        "print(f\"My name is {name} and I am {age} years old\")"
      ],
      "metadata": {
        "colab": {
          "base_uri": "https://localhost:8080/"
        },
        "id": "vhYknyF3cWvN",
        "outputId": "b1a50cd9-a144-4a43-8fcf-ff747f037e2c"
      },
      "execution_count": 2,
      "outputs": [
        {
          "output_type": "stream",
          "name": "stdout",
          "text": [
            "My name is Akarshak and I am 25 years old\n"
          ]
        }
      ]
    },
    {
      "cell_type": "code",
      "source": [
        "#3. Write code to print all the pre-defined keywords in Python using the keyword library\n",
        "import keyword\n",
        "\n",
        "print(\"Predefined Python Keywords:\")\n",
        "print(keyword.kwlist)\n"
      ],
      "metadata": {
        "colab": {
          "base_uri": "https://localhost:8080/"
        },
        "id": "C-EQkBlzc5cD",
        "outputId": "94b2038b-8f77-4535-8c46-97146026189c"
      },
      "execution_count": 7,
      "outputs": [
        {
          "output_type": "stream",
          "name": "stdout",
          "text": [
            "Predefined Python Keywords:\n",
            "['False', 'None', 'True', 'and', 'as', 'assert', 'async', 'await', 'break', 'class', 'continue', 'def', 'del', 'elif', 'else', 'except', 'finally', 'for', 'from', 'global', 'if', 'import', 'in', 'is', 'lambda', 'nonlocal', 'not', 'or', 'pass', 'raise', 'return', 'try', 'while', 'with', 'yield']\n"
          ]
        }
      ]
    },
    {
      "cell_type": "code",
      "source": [
        "#4.  Write a program that checks if a given word is a Python keyword.\n",
        "import keyword\n",
        "\n",
        "word = input(\"Enter the word:\")\n",
        "if word in keyword.kwlist:\n",
        "  print(f\"{word} is a python keyword\")\n",
        "else:\n",
        "  print(f\"{word} is not a python keyword\")"
      ],
      "metadata": {
        "colab": {
          "base_uri": "https://localhost:8080/"
        },
        "id": "Ed9jEXyCdRKc",
        "outputId": "97f90aaa-71fc-4b94-a94a-400226ecd8d6"
      },
      "execution_count": 12,
      "outputs": [
        {
          "output_type": "stream",
          "name": "stdout",
          "text": [
            "Enter the word:assert\n",
            "assert is a python keyword\n"
          ]
        }
      ]
    },
    {
      "cell_type": "code",
      "source": [
        "#5. Create a list and tuple in Python, and demonstrate how attempting to change an element works differently for each\n",
        "# Creating a list\n",
        "my_list = [1, 2, 3, 4, 5]\n",
        "\n",
        "# Printing the original list\n",
        "print(\"Original List:\", my_list)\n",
        "\n",
        "# Changing an element in the list\n",
        "my_list[2] = 100\n",
        "print(\"List after modification:\", my_list)\n",
        "\n"
      ],
      "metadata": {
        "colab": {
          "base_uri": "https://localhost:8080/"
        },
        "id": "1WPhJ6zgeY8A",
        "outputId": "7474c59d-5128-44d4-e2b5-a72467f8d391"
      },
      "execution_count": 14,
      "outputs": [
        {
          "output_type": "stream",
          "name": "stdout",
          "text": [
            "Original List: [1, 2, 3, 4, 5]\n",
            "List after modification: [1, 2, 100, 4, 5]\n"
          ]
        }
      ]
    },
    {
      "cell_type": "code",
      "source": [
        "# Creating a tuple\n",
        "my_tuple = (1, 2, 3, 4, 5)\n",
        "\n",
        "# Printing the original tuple\n",
        "print(\"Original Tuple:\", my_tuple)\n",
        "\n",
        "# Attempting to change an element in the tuple (immutable)\n",
        "my_tuple[2] = 13\n"
      ],
      "metadata": {
        "colab": {
          "base_uri": "https://localhost:8080/",
          "height": 200
        },
        "collapsed": true,
        "id": "n12BTTiogMIA",
        "outputId": "aede991c-3ffc-41da-d6cc-f72e433a7c5a"
      },
      "execution_count": 15,
      "outputs": [
        {
          "output_type": "stream",
          "name": "stdout",
          "text": [
            "Original Tuple: (1, 2, 3, 4, 5)\n"
          ]
        },
        {
          "output_type": "error",
          "ename": "TypeError",
          "evalue": "'tuple' object does not support item assignment",
          "traceback": [
            "\u001b[0;31m---------------------------------------------------------------------------\u001b[0m",
            "\u001b[0;31mTypeError\u001b[0m                                 Traceback (most recent call last)",
            "\u001b[0;32m<ipython-input-15-c9f3de7c8c07>\u001b[0m in \u001b[0;36m<cell line: 0>\u001b[0;34m()\u001b[0m\n\u001b[1;32m      6\u001b[0m \u001b[0;34m\u001b[0m\u001b[0m\n\u001b[1;32m      7\u001b[0m \u001b[0;31m# Attempting to change an element in the tuple (immutable)\u001b[0m\u001b[0;34m\u001b[0m\u001b[0;34m\u001b[0m\u001b[0m\n\u001b[0;32m----> 8\u001b[0;31m \u001b[0mmy_tuple\u001b[0m\u001b[0;34m[\u001b[0m\u001b[0;36m2\u001b[0m\u001b[0;34m]\u001b[0m \u001b[0;34m=\u001b[0m \u001b[0;36m13\u001b[0m\u001b[0;34m\u001b[0m\u001b[0;34m\u001b[0m\u001b[0m\n\u001b[0m",
            "\u001b[0;31mTypeError\u001b[0m: 'tuple' object does not support item assignment"
          ]
        }
      ]
    },
    {
      "cell_type": "code",
      "source": [
        "#6. Write a function to demonstrate the behavior of mutable and immutable arguments\n",
        "def modify_arguments(mutable_arg, immutable_arg):\n",
        "    # Modify mutable argument (list)\n",
        "    mutable_arg.append(100)\n",
        "\n",
        "    # Modify immutable argument (integer)\n",
        "    immutable_arg = immutable_arg + 10  # Creates a new integer, does not affect the original\n",
        "\n",
        "    # Print results inside the function\n",
        "    print(\"Inside function:\")\n",
        "    print(\"Mutable argument after modification:\", mutable_arg)\n",
        "    print(\"Immutable argument after modification:\", immutable_arg)\n",
        "\n",
        "# Outside function\n",
        "mutable_list = [1, 2, 3]\n",
        "immutable_int = 50\n",
        "\n",
        "# Print original arguments before function call\n",
        "print(\"Before function call:\")\n",
        "print(\"Original mutable argument:\", mutable_list)\n",
        "print(\"Original immutable argument:\", immutable_int)\n",
        "\n",
        "# Call the function\n",
        "modify_arguments(mutable_list, immutable_int)\n",
        "\n",
        "# Print values after function call\n",
        "print(\"\\nAfter function call:\")\n",
        "print(\"Mutable argument outside function:\", mutable_list)\n",
        "print(\"Immutable argument outside function:\", immutable_int)\n",
        "\n"
      ],
      "metadata": {
        "colab": {
          "base_uri": "https://localhost:8080/"
        },
        "id": "mc_d1j41goCb",
        "outputId": "01bbb2da-3abf-4ad7-87bd-1b6498e708de"
      },
      "execution_count": 17,
      "outputs": [
        {
          "output_type": "stream",
          "name": "stdout",
          "text": [
            "Before function call:\n",
            "Original mutable argument: [1, 2, 3]\n",
            "Original immutable argument: 50\n",
            "Inside function:\n",
            "Mutable argument after modification: [1, 2, 3, 100]\n",
            "Immutable argument after modification: 60\n",
            "\n",
            "After function call:\n",
            "Mutable argument outside function: [1, 2, 3, 100]\n",
            "Immutable argument outside function: 50\n"
          ]
        }
      ]
    },
    {
      "cell_type": "code",
      "source": [
        "# 7. Write a program that performs basic arithmetic operations on two user-input numbers.\n",
        "num1 = int(input(\"Enter the first number:\"))\n",
        "num2 = int(input(\"Enter the second number:\"))\n",
        "res = num1 + num2\n",
        "print(res)"
      ],
      "metadata": {
        "colab": {
          "base_uri": "https://localhost:8080/"
        },
        "id": "wEwfNm1axtKT",
        "outputId": "bb492d01-9c8a-41a8-8a10-1e2bb556e3f0"
      },
      "execution_count": 19,
      "outputs": [
        {
          "output_type": "stream",
          "name": "stdout",
          "text": [
            "Enter the first number:34\n",
            "Enter the second number:45\n",
            "79\n"
          ]
        }
      ]
    },
    {
      "cell_type": "code",
      "source": [
        "# 8. Write a program to demonstrate the use of logical operators.\n",
        "# Program to demonstrate the use of logical operators\n",
        "\n",
        "# Initialize variables\n",
        "x = 10\n",
        "y = 20\n",
        "z = 5\n",
        "\n",
        "# Using 'and' logical operator\n",
        "if x > 5 and y > 10:\n",
        "    print(\"Both conditions are true: x > 5 and y > 10\")\n",
        "else:\n",
        "    print(\"Either x <= 5 or y <= 10 (or both)\")\n",
        "\n",
        "# Using 'or' logical operator\n",
        "if x < 5 or y > 15:\n",
        "    print(\"At least one condition is true: x < 5 or y > 15\")\n",
        "else:\n",
        "    print(\"Both conditions are false: x >= 5 and y <= 15\")\n",
        "\n",
        "# Using 'not' logical operator\n",
        "if not z == 10:\n",
        "    print(\"z is not equal to 10\")\n",
        "\n"
      ],
      "metadata": {
        "colab": {
          "base_uri": "https://localhost:8080/"
        },
        "id": "9WIJyQptzEWo",
        "outputId": "15831220-ac1f-41d4-cea6-aeef74e86388"
      },
      "execution_count": 24,
      "outputs": [
        {
          "output_type": "stream",
          "name": "stdout",
          "text": [
            "Both conditions are true: x > 5 and y > 10\n",
            "At least one condition is true: x < 5 or y > 15\n",
            "z is not equal to 10\n"
          ]
        }
      ]
    },
    {
      "cell_type": "code",
      "source": [
        " #9. Write a Python program to convert user input from string to integer, float, and boolean types.\n",
        "user = input(\"Enter a number:\")\n",
        "to_int = int(user)\n",
        "print(to_int)\n",
        "to_float = float(user)\n",
        "print(to_float)\n",
        "to_bool = bool(user)\n",
        "print(to_bool)\n",
        "\n"
      ],
      "metadata": {
        "colab": {
          "base_uri": "https://localhost:8080/"
        },
        "id": "f9S6vjcN0HN6",
        "outputId": "823fc9a0-956e-48a0-a64e-16c7baaa160e"
      },
      "execution_count": 26,
      "outputs": [
        {
          "output_type": "stream",
          "name": "stdout",
          "text": [
            "Enter a number:13\n",
            "13\n",
            "13.0\n",
            "True\n"
          ]
        }
      ]
    },
    {
      "cell_type": "code",
      "source": [
        "#10. Write code to demonstrate type casting with list elements.\n",
        "# Original list with mixed data types\n",
        "my_list = [10, \"20\", 30.5, \"40\", True]\n",
        "\n",
        "# Type casting list elements to integers\n",
        "integer_list = [int(item) for item in my_list if str(item).isdigit()]\n",
        "\n",
        "# Type casting list elements to floats\n",
        "float_list = [float(item) for item in my_list if str(item).replace('.', '', 1).isdigit()]\n",
        "\n",
        "# Type casting list elements to strings\n",
        "string_list = [str(item) for item in my_list]\n",
        "\n",
        "# Printing the results\n",
        "print(\"Original List:\", my_list)\n",
        "print(\"Integer List:\", integer_list)\n",
        "print(\"Float List:\", float_list)\n",
        "print(\"String List:\", string_list)"
      ],
      "metadata": {
        "colab": {
          "base_uri": "https://localhost:8080/"
        },
        "id": "MDTebdKm2MpI",
        "outputId": "c8f36bf9-922d-4d16-d54e-0eac9c05983b"
      },
      "execution_count": 30,
      "outputs": [
        {
          "output_type": "stream",
          "name": "stdout",
          "text": [
            "Original List: [10, '20', 30.5, '40', True]\n",
            "Integer List: [10, 20, 40]\n",
            "Float List: [10.0, 20.0, 30.5, 40.0]\n",
            "String List: ['10', '20', '30.5', '40', 'True']\n"
          ]
        }
      ]
    },
    {
      "cell_type": "code",
      "source": [
        "#11. Write a program that checks if a number is positive, negative, or zero.\n",
        "# Function to check if a number is positive, negative, or zero\n",
        "def check_number(num):\n",
        "    if num > 0:\n",
        "        print(f\"{num} is positive.\")\n",
        "    elif num < 0:\n",
        "        print(f\"{num} is negative.\")\n",
        "    else:\n",
        "        print(f\"{num} is zero.\")\n",
        "\n",
        "# Input from the user\n",
        "number = float(input(\"Enter a number: \"))\n",
        "\n",
        "# Call the function with the user input\n",
        "check_number(number)\n"
      ],
      "metadata": {
        "colab": {
          "base_uri": "https://localhost:8080/"
        },
        "id": "E31aRhEN3adt",
        "outputId": "2c9fece9-cadc-4b25-f947-761a019f03eb"
      },
      "execution_count": 34,
      "outputs": [
        {
          "output_type": "stream",
          "name": "stdout",
          "text": [
            "Enter a number: -38\n",
            "-38.0 is negative.\n"
          ]
        }
      ]
    },
    {
      "cell_type": "code",
      "source": [
        "# 12. Write a for loop to print numbers from 1 to 10.\n",
        "for i in range(1,11):\n",
        "    print(i)"
      ],
      "metadata": {
        "colab": {
          "base_uri": "https://localhost:8080/"
        },
        "id": "ttTPANoB4rBJ",
        "outputId": "ab4ad246-0b4f-44d4-e946-1e2778884099"
      },
      "execution_count": 33,
      "outputs": [
        {
          "output_type": "stream",
          "name": "stdout",
          "text": [
            "1\n",
            "2\n",
            "3\n",
            "4\n",
            "5\n",
            "6\n",
            "7\n",
            "8\n",
            "9\n",
            "10\n"
          ]
        }
      ]
    },
    {
      "cell_type": "code",
      "source": [
        "# 13. Write a Python program to find the sum of all even numbers between 1 and 50.\n",
        "add = 0\n",
        "for i in range(1,51):\n",
        "  if i % 2 == 0:\n",
        "    add += i\n",
        "print(f\"The sum of even numbers from 1 - 50 is:{add}\")\n"
      ],
      "metadata": {
        "colab": {
          "base_uri": "https://localhost:8080/"
        },
        "id": "6R-IguiH5n_J",
        "outputId": "285b63e0-ce98-4b7f-e462-348ce27f81d3"
      },
      "execution_count": 38,
      "outputs": [
        {
          "output_type": "stream",
          "name": "stdout",
          "text": [
            "The sum of even numbers from 1 - 50 is:650\n"
          ]
        }
      ]
    },
    {
      "cell_type": "code",
      "source": [
        "# 14. Write a program to reverse a string using a while loop.\n",
        "input_string = input(\"Enter a string: \")\n",
        "reversed_str = \"\"\n",
        "index = len(input_string) - 1\n",
        "\n",
        "while index >= 0:\n",
        "    reversed_str += input_string[index]\n",
        "    index -= 1\n",
        "\n",
        "print(\"Reversed string:\", reversed_str)\n"
      ],
      "metadata": {
        "colab": {
          "base_uri": "https://localhost:8080/"
        },
        "id": "-JRf4jIr6mIz",
        "outputId": "3defca15-716c-4fb0-e871-30e58c84000c"
      },
      "execution_count": 39,
      "outputs": [
        {
          "output_type": "stream",
          "name": "stdout",
          "text": [
            "Enter a string: Akarshak\n",
            "Reversed string: kahsrakA\n"
          ]
        }
      ]
    },
    {
      "cell_type": "code",
      "source": [
        "# 15. Write a Python program to calculate the factorial of a number provided by the user using a while loop.\n",
        "number = int(input(\"Enter a number: \"))\n",
        "factorial = 1\n",
        "i = 1\n",
        "\n",
        "while i <= number:\n",
        "    factorial *= i\n",
        "    i += 1\n",
        "\n",
        "print(\"The factorial of\", number, \"is:\", factorial)\n"
      ],
      "metadata": {
        "colab": {
          "base_uri": "https://localhost:8080/"
        },
        "id": "LlPDpxv-7iBM",
        "outputId": "bf6db780-c579-4a4e-b4c5-96f084874d21"
      },
      "execution_count": 41,
      "outputs": [
        {
          "output_type": "stream",
          "name": "stdout",
          "text": [
            "Enter a number: 9\n",
            "The factorial of 9 is: 362880\n"
          ]
        }
      ]
    },
    {
      "cell_type": "code",
      "source": [],
      "metadata": {
        "id": "nYORCyu_76rN"
      },
      "execution_count": null,
      "outputs": []
    }
  ]
}